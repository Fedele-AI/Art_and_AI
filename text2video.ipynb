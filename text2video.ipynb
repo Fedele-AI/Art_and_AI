{
  "nbformat": 4,
  "nbformat_minor": 0,
  "metadata": {
    "colab": {
      "provenance": [],
      "gpuType": "T4"
    },
    "kernelspec": {
      "name": "python3",
      "display_name": "Python 3"
    },
    "language_info": {
      "name": "python"
    },
    "accelerator": "GPU"
  },
  "cells": [
    {
      "cell_type": "markdown",
      "source": [
        "## Text2Video Generation, using ByteDance's AnimateDiff-Lightning.\n",
        "\n",
        "Created by: [Alex Jenkins](https://alexj.io)\n",
        "\n",
        "Professors: [Dr. Francesco Fedele](https://ce.gatech.edu/directory/person/francesco-fedele) and [Dr. Mark Leibert](https://lmc.gatech.edu/people/person/mark-leibert)\n",
        "\n",
        "### MAKE SURE TO RUN WITH THE T4 GPU UNDER RUNTIME OPTIONS!\n",
        "\n",
        "#### Version: 02/23/2025\n",
        "\n",
        "Model Card: [View here](https://huggingface.co/ByteDance/AnimateDiff-Lightning).\n",
        "\n",
        "Copyright (c) 2025, [Georgia Institute of Technology](https://www.gatech.edu).\n"
      ],
      "metadata": {
        "id": "O834adfh1JCG"
      }
    },
    {
      "cell_type": "code",
      "execution_count": null,
      "metadata": {
        "id": "M_K9JWgZu15o",
        "cellView": "form"
      },
      "outputs": [],
      "source": [
        "#@title 1). Install packages to prepare to download the model\n",
        "#@markdown ⬅️ Press to install and prepare the model.\n",
        "#@markdown Settings will appear once finished.\n",
        "\n",
        "# Install necessary libraries\n",
        "!pip install torch diffusers huggingface_hub safetensors ipywidgets\n",
        "\n",
        "import torch\n",
        "from diffusers import AnimateDiffPipeline, MotionAdapter, EulerDiscreteScheduler\n",
        "from diffusers.utils import export_to_gif\n",
        "from huggingface_hub import hf_hub_download\n",
        "from safetensors.torch import load_file\n",
        "import ipywidgets as widgets\n",
        "from IPython.display import display\n",
        "import gc\n",
        "\n",
        "# Define sliders for generation quality settings\n",
        "guidance_scale = widgets.FloatSlider(value=5.0, min=1.0, max=10.0, step=0.5, description=\"Guidance Scale\")\n",
        "num_inference_steps = widgets.IntSlider(value=4, min=1, max=8, step=1, description=\"Inference Steps\")\n",
        "height = widgets.IntSlider(value=256, min=128, max=512, step=64, description=\"Height\")\n",
        "width = widgets.IntSlider(value=256, min=128, max=512, step=64, description=\"Width\")\n",
        "\n",
        "# Display sliders for user input\n",
        "display(guidance_scale, num_inference_steps, height, width)"
      ]
    },
    {
      "cell_type": "code",
      "source": [
        "#@title 2). Run the model (ETA: ~1 minute per video)\n",
        "#@markdown ⬅️ Press to run model, you will be asked for the prompt once loaded.\n",
        "\n",
        "#@markdown **Note:** This may take about 5 minutes on the first run to download the model\n",
        "\n",
        "# Set device and dtype\n",
        "device = \"cuda\" if torch.cuda.is_available() else \"cpu\"\n",
        "dtype = torch.float16 if device == \"cuda\" else torch.float32\n",
        "\n",
        "# Default configuration\n",
        "repo = \"ByteDance/AnimateDiff-Lightning\"\n",
        "step = 4  # Default step value, can be changed\n",
        "ckpt = f\"animatediff_lightning_{step}step_diffusers.safetensors\"\n",
        "base = \"emilianJR/epiCRealism\"\n",
        "\n",
        "# Load the motion adapter\n",
        "adapter = MotionAdapter().to(device, dtype)\n",
        "adapter.load_state_dict(load_file(hf_hub_download(repo, ckpt), device=device))\n",
        "\n",
        "# Load the pipeline\n",
        "pipe = AnimateDiffPipeline.from_pretrained(\n",
        "    base,\n",
        "    motion_adapter=adapter,\n",
        "    torch_dtype=dtype,\n",
        "    low_cpu_mem_usage=True,  # Optimize memory usage\n",
        ").to(device)\n",
        "\n",
        "# Use a faster scheduler\n",
        "pipe.scheduler = EulerDiscreteScheduler.from_config(\n",
        "    pipe.scheduler.config,\n",
        "    timestep_spacing=\"trailing\",\n",
        "    beta_schedule=\"linear\"\n",
        ")\n",
        "\n",
        "# Get user input for prompt\n",
        "prompt = input(\"Enter your text prompt:\\n\")\n",
        "\n",
        "# Generate animation\n",
        "output = pipe(\n",
        "    prompt=prompt,\n",
        "    guidance_scale=guidance_scale.value,\n",
        "    num_inference_steps=num_inference_steps.value,\n",
        "    height=height.value,\n",
        "    width=width.value,\n",
        ")\n",
        "\n",
        "# Export animation to GIF\n",
        "export_to_gif(output.frames[0], \"animation.gif\")\n",
        "\n",
        "# Display the GIF\n",
        "from IPython.display import Image\n",
        "display(Image(filename=\"animation.gif\"))\n",
        "\n",
        "# Free memory after execution\n",
        "del pipe\n",
        "del adapter\n",
        "torch.cuda.empty_cache()\n",
        "gc.collect()"
      ],
      "metadata": {
        "id": "5VqACaC60-hX",
        "cellView": "form"
      },
      "execution_count": null,
      "outputs": []
    }
  ]
}