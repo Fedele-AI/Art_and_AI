{
 "cells": [
  {
   "cell_type": "markdown",
   "metadata": {
    "id": "O834adfh1JCG"
   },
   "source": [
    "## Text2Music Generation, using Meta's MusicGen.\n",
    "\n",
    "Created by: [Alex Jenkins](https://alexj.io)\n",
    "\n",
    "Professors: [Dr. Francesco Fedele](https://ce.gatech.edu/directory/person/francesco-fedele) and [Dr. Mark Leibert](https://lmc.gatech.edu/people/person/mark-leibert)\n",
    "\n",
    "### MAKE SURE TO RUN WITH THE T4 GPU UNDER RUNTIME OPTIONS!\n",
    "\n",
    "#### Version: 02/17/2025\n",
    "\n",
    "Model Card: [View here](https://huggingface.co/facebook/musicgen-stereo-small).\n",
    "\n",
    "Copyright (c) 2025, [Georgia Institute of Technology](https://www.gatech.edu).\n"
   ]
  },
  {
   "cell_type": "code",
   "execution_count": null,
   "metadata": {
    "cellView": "form",
    "id": "c5DvWkLqjjdJ"
   },
   "outputs": [],
   "source": [
    "#@title 1). Install packages and download the model\n",
    "#@markdown ⬅️ Press to install and prepare the model.\n",
    "\n",
    "# Enforce a UTF-8 Local\n",
    "import locale\n",
    "locale.getpreferredencoding = lambda: \"UTF-8\"\n",
    "\n",
    "# Install packages\n",
    "!python3 -m pip install -U git+https://github.com/facebookresearch/audiocraft#egg=audiocraft\n",
    "\n",
    "# Import necessary packages\n",
    "import torch\n",
    "from audiocraft.models import musicgen\n",
    "from audiocraft.utils.notebook import display_audio\n",
    "\n",
    "# Load the pre-trained model\n",
    "print(\"Downloading model...\\n Please wait, this may take some time...\")\n",
    "model = musicgen.MusicGen.get_pretrained('facebook/musicgen-stereo-small')\n",
    "model.set_generation_params(duration=30)\n",
    "\n"
   ]
  },
  {
   "cell_type": "code",
   "execution_count": null,
   "metadata": {
    "cellView": "form",
    "colab": {
     "base_uri": "https://localhost:8080/",
     "height": 80,
     "output_embedded_package_id": "1GV1taMzTA0zTpKuhPyYkKqDyM41zlFX1"
    },
    "executionInfo": {
     "elapsed": 64739,
     "status": "ok",
     "timestamp": 1739825941645,
     "user": {
      "displayName": "Alex Jenkins",
      "userId": "01932774792376836805"
     },
     "user_tz": 300
    },
    "id": "q-6vwJxWnNHF",
    "outputId": "bcdf216c-aba8-4047-e259-b652e806f293"
   },
   "outputs": [],
   "source": [
    "#@title 2). Run the Model (ETA: ~1 minute)\n",
    "#@markdown ⬅️ Press to run the model. Enter a prompt when prompted.\n",
    "\n",
    "# Ensure model is loaded\n",
    "if 'model' not in globals():\n",
    "    raise RuntimeError(\"Model not found! Run the first cell to download and load the model.\")\n",
    "\n",
    "# Get user input\n",
    "prompt = input(\"Enter your prompt:\")\n",
    "\n",
    "# Generate music\n",
    "res = model.generate([\"30 seconds \" + prompt], progress=True).to(\"cuda\")\n",
    "\n",
    "# Play generated audio\n",
    "display_audio(res, 32000)"
   ]
  }
 ],
 "metadata": {
  "accelerator": "GPU",
  "colab": {
   "authorship_tag": "ABX9TyNQiLfvp+k5dRJUgbT+QCSv",
   "gpuType": "T4",
   "provenance": []
  },
  "kernelspec": {
   "display_name": "Python 3",
   "name": "python3"
  },
  "language_info": {
   "name": "python"
  }
 },
 "nbformat": 4,
 "nbformat_minor": 0
}
